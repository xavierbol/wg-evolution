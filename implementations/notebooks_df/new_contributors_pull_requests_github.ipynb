{
 "cells": [
  {
   "cell_type": "markdown",
   "metadata": {
    "collapsed": true,
    "pycharm": {
     "name": "#%% md\n"
    }
   },
   "source": [
    "# New Contributors Pull Requests\n",
    "\n",
    "This is the reference implementation for [New Contributors Pull Requests](), a metric specified by the [Evolution Working group](https://github.com/chaoss/wg-evolution) of the [CHAOSS project](https://chaoss.community/). This implementation is specific to GitHub repositories.\n",
    "\n",
    "Have a look at [README.md](../README.md) to find out how to run this notebook (and others in this directory) as well as\n",
    "to get a better understanding of the purpose of the implementations.\n",
    "\n",
    "The implementation is desvcribed in two parts (see below):\n",
    "\n",
    "* Class for computing New Contributors Pull Requests\n",
    "* An explanatory analysis of the class' functionality\n",
    "\n",
    "Some more auxiliary information in this notebook:\n",
    "\n",
    "* Examples of the use of the implementation\n",
    "* Vizualizing the data extracted\n",
    "\n",
    "As discussed in the [README.md](../README.md) file, the scripts required to analyze the data fetched by Perceval are\n",
    "located in the `code_df` package. Due to python's import system, to import modules from a package which is not in the\n",
    "current directory, we have to either add the package to `PYTHONPATH` or simply append a `../..` to `sys.path`, so that\n",
    "`code_df` can be successfully imported."
   ]
  },
  {
   "cell_type": "code",
   "execution_count": 5,
   "outputs": [],
   "source": [
    "from datetime import datetime\n",
    "import matplotlib.pyplot as plt\n",
    "%matplotlib inline\n",
    "\n",
    "import sys\n",
    "\n",
    "sys.path.append(\"../..\")\n",
    "\n",
    "from implementations.code_df.pullrequest_github import PullRequestGitHub\n",
    "from implementations.code_df.utils import read_json_file"
   ],
   "metadata": {
    "collapsed": false,
    "pycharm": {
     "name": "#%%\n"
    }
   }
  },
  {
   "cell_type": "code",
   "execution_count": 6,
   "outputs": [],
   "source": [
    "class NewContributorsPullRequestsGitHub(PullRequestGitHub):\n",
    "    \"\"\"\n",
    "    Class for New Contributors Pull Requests in GitHub\n",
    "    \"\"\"\n",
    "\n",
    "    def __init__(self, items, date_range=(None, None)):\n",
    "        \"\"\"\n",
    "        Initializes self.df, the dataframe with one commit per row.\n",
    "\n",
    "        :param items: A list of dictionaries.\n",
    "            Each item is a Perceval dictionary, obtained from a JSON\n",
    "            file or from Perceval directly.\n",
    "\n",
    "        :param date_range: A tuple which represents the start and end date\n",
    "            between which new contributors will be considered.\n",
    "            Either, or both can be None. If, for example, since is None, that\n",
    "            all unique contributors whose commit lies between the first pull request\n",
    "            to the pull request which last falls inside the until range would be considered\n",
    "            unique contributors.\n",
    "        \"\"\"\n",
    "        super().__init__(items, date_range)\n",
    "\n",
    "        self.df = self.df.loc[self.df.groupby('author')['created_date'].idxmin()]\n",
    "\n",
    "        if self.since:\n",
    "            self.df = self.df[self.df['created_date'] >= self.since]\n",
    "\n",
    "        if self.until:\n",
    "            self.df = self.df[self.df['created_date'] <= self.until]\n",
    "\n",
    "    def compute(self):\n",
    "        \"\"\"\n",
    "        Count the number of new contributors who has created an pull request\n",
    "        between the two dates\n",
    "        of date_range.\n",
    "\n",
    "        :returns count_of_new_contributors: the number of new contributors who\n",
    "            created a new pull request between the dates of date_range\n",
    "\n",
    "            Since the dataframe self.df is modified in __init__ via groupby\n",
    "            and idmin(), the number of unique entries in the dataframe gives us the number of the new contributors between the given dates.\n",
    "        \"\"\"\n",
    "        return len(self.df.index)\n",
    "\n",
    "    def _agg(self, df, period):\n",
    "        \"\"\"\n",
    "        Perform an aggregation operation on a DataFrame or Series\n",
    "        to count the number of new contributors in a period when\n",
    "        compared to contributors before that period.\n",
    "\n",
    "        This method uses the 'count' aggregation method.\n",
    "\n",
    "        :param df: a pandas DataFrame on which the aggregation will be\n",
    "            applied.\n",
    "\n",
    "        :param period: A string which can be any one of the pandas time\n",
    "            series rules:\n",
    "            'W': week\n",
    "            'M': month\n",
    "            'D': day\n",
    "\n",
    "        :returns df: The final aggregated DataFrame\n",
    "        \"\"\"\n",
    "        return df.resample(period)['author'].agg(['count'])\n",
    "\n",
    "    def _get_params(self):\n",
    "        \"\"\"\n",
    "        Return paramters for creating a timeseries plot\n",
    "\n",
    "        :returns: A dictionary with axes to plot, a title\n",
    "            and if use_index should be true when creating\n",
    "            the plot.\n",
    "        \"\"\"\n",
    "        title = \"Trends in the Number of New Contributors\"\n",
    "        x = None\n",
    "        y = 'count'\n",
    "        use_index = True\n",
    "        return {'x': x, 'y': y, 'title': title, 'use_index': use_index}\n",
    "\n",
    "    def __str__(self):\n",
    "        return \"New Contributors of Pull Requests\""
   ],
   "metadata": {
    "collapsed": false,
    "pycharm": {
     "name": "#%%\n"
    }
   }
  },
  {
   "cell_type": "markdown",
   "source": [
    "## Performing the Analysis\n",
    "\n",
    "Using the above class, we can perform several kinds of analysis on the JSON data file, fetched by Perceval.\n",
    "\n",
    "At its most basic, the `NewContributorsPullRequestsGitHub` class can be used to get the number of contributors over the\n",
    "entire interval for which commits are considered.\n",
    "\n",
    "The `date_range` parameter talks about the period in which we will look for the new contributors.\n",
    "\n",
    "### Counting the total number of contributors\n",
    "\n",
    "We pass the data of the JSON file as a list to NewContributorsPullRequestsGitHub to start off."
   ],
   "metadata": {
    "collapsed": false
   }
  },
  {
   "cell_type": "code",
   "execution_count": 7,
   "outputs": [],
   "source": [
    "items = read_json_file(\"../pull_requests.json\")"
   ],
   "metadata": {
    "collapsed": false,
    "pycharm": {
     "name": "#%%\n"
    }
   }
  },
  {
   "cell_type": "markdown",
   "source": [
    "Let's use the compute method to count the total number of valid commits made. First, we will do it without passing any\n",
    "`since` and `until` dates. When no values are passed for `date_range`, every contributor to make a commit is a new\n",
    "contributor and hence, we get the total number of unique contributors in the data considered."
   ],
   "metadata": {
    "collapsed": false
   }
  },
  {
   "cell_type": "code",
   "execution_count": 8,
   "outputs": [
    {
     "name": "stdout",
     "output_type": "stream",
     "text": [
      "New Contributors, total: 39\n"
     ]
    }
   ],
   "source": [
    "new_contributors = NewContributorsPullRequestsGitHub(items)\n",
    "print(\"New Contributors, total: {}\".format(new_contributors.compute()))"
   ],
   "metadata": {
    "collapsed": false,
    "pycharm": {
     "name": "#%%\n"
    }
   }
  },
  {
   "cell_type": "markdown",
   "source": [
    "### Counting contributors in a specific range\n",
    "\n",
    "Now, let's give the `date_range` tuple, which has `since` and `until` as its elements some values. Let's pass 2018-01-01\n",
    "and 2018-07-01 for `date_range`. Thus, we will be looking for new contributors who made their first pull request between\n",
    "2018-01-01 and 2018-07-01."
   ],
   "metadata": {
    "collapsed": false
   }
  },
  {
   "cell_type": "code",
   "execution_count": 9,
   "outputs": [
    {
     "name": "stdout",
     "output_type": "stream",
     "text": [
      "New Contributors, between 2018-01-01 and 2018-07-01:  13\n"
     ]
    }
   ],
   "source": [
    "date_since = datetime.strptime(\"2018-01-01\", \"%Y-%m-%d\")\n",
    "date_until = datetime.strptime(\"2018-07-01\", \"%Y-%m-%d\")\n",
    "new_contributors_interval = NewContributorsPullRequestsGitHub(items, (date_since, date_until))\n",
    "print(\"New Contributors, between 2018-01-01 and 2018-07-01: \", new_contributors_interval.compute())"
   ],
   "metadata": {
    "collapsed": false,
    "pycharm": {
     "name": "#%%\n"
    }
   }
  },
  {
   "cell_type": "markdown",
   "source": [
    "### Counting new contributors whose made first pull request over regular time intervals\n",
    "\n",
    "Using the `time_series` method, it is possible to compute the number of new contributors for every month, or for every\n",
    "week. This kind of analysis is useful in finding trends over time, as we will see in the cell below. Let's see the trend\n",
    "in the number of new contributors who made first pull request between the same dates we used above, on a weekly basis:\n",
    "2018-01-01 and 2018-07-01. We will use the same object we used when working with the dates above:\n",
    "`new_contributors_interval`"
   ],
   "metadata": {
    "collapsed": false,
    "pycharm": {
     "name": "#%% md\n"
    }
   }
  },
  {
   "cell_type": "code",
   "execution_count": 10,
   "outputs": [],
   "source": [
    "weekly_df = new_contributors_interval.time_series(period='W')"
   ],
   "metadata": {
    "collapsed": false,
    "pycharm": {
     "name": "#%%\n"
    }
   }
  },
  {
   "cell_type": "markdown",
   "source": [
    "Let's see what the dataframe returned by `time_series` looks like. As you will notice, the dataframe has rows\n",
    "corresponding to the weeks between the dates passed. This was done by performing a simple resampling with the desired\n",
    "time period."
   ],
   "metadata": {
    "collapsed": false,
    "pycharm": {
     "name": "#%% md\n"
    }
   }
  },
  {
   "cell_type": "code",
   "execution_count": 11,
   "outputs": [
    {
     "data": {
      "text/plain": "              count\ncreated_date       \n2018-01-07        3\n2018-01-14        1\n2018-01-21        0\n2018-01-28        2\n2018-02-04        2\n2018-02-11        0\n2018-02-18        0\n2018-02-25        0\n2018-03-04        0\n2018-03-11        2\n2018-03-18        0\n2018-03-25        2\n2018-04-01        0\n2018-04-08        0\n2018-04-15        0\n2018-04-22        0\n2018-04-29        0\n2018-05-06        0\n2018-05-13        0\n2018-05-20        0\n2018-05-27        0\n2018-06-03        1",
      "text/html": "<div>\n<style scoped>\n    .dataframe tbody tr th:only-of-type {\n        vertical-align: middle;\n    }\n\n    .dataframe tbody tr th {\n        vertical-align: top;\n    }\n\n    .dataframe thead th {\n        text-align: right;\n    }\n</style>\n<table border=\"1\" class=\"dataframe\">\n  <thead>\n    <tr style=\"text-align: right;\">\n      <th></th>\n      <th>count</th>\n    </tr>\n    <tr>\n      <th>created_date</th>\n      <th></th>\n    </tr>\n  </thead>\n  <tbody>\n    <tr>\n      <th>2018-01-07</th>\n      <td>3</td>\n    </tr>\n    <tr>\n      <th>2018-01-14</th>\n      <td>1</td>\n    </tr>\n    <tr>\n      <th>2018-01-21</th>\n      <td>0</td>\n    </tr>\n    <tr>\n      <th>2018-01-28</th>\n      <td>2</td>\n    </tr>\n    <tr>\n      <th>2018-02-04</th>\n      <td>2</td>\n    </tr>\n    <tr>\n      <th>2018-02-11</th>\n      <td>0</td>\n    </tr>\n    <tr>\n      <th>2018-02-18</th>\n      <td>0</td>\n    </tr>\n    <tr>\n      <th>2018-02-25</th>\n      <td>0</td>\n    </tr>\n    <tr>\n      <th>2018-03-04</th>\n      <td>0</td>\n    </tr>\n    <tr>\n      <th>2018-03-11</th>\n      <td>2</td>\n    </tr>\n    <tr>\n      <th>2018-03-18</th>\n      <td>0</td>\n    </tr>\n    <tr>\n      <th>2018-03-25</th>\n      <td>2</td>\n    </tr>\n    <tr>\n      <th>2018-04-01</th>\n      <td>0</td>\n    </tr>\n    <tr>\n      <th>2018-04-08</th>\n      <td>0</td>\n    </tr>\n    <tr>\n      <th>2018-04-15</th>\n      <td>0</td>\n    </tr>\n    <tr>\n      <th>2018-04-22</th>\n      <td>0</td>\n    </tr>\n    <tr>\n      <th>2018-04-29</th>\n      <td>0</td>\n    </tr>\n    <tr>\n      <th>2018-05-06</th>\n      <td>0</td>\n    </tr>\n    <tr>\n      <th>2018-05-13</th>\n      <td>0</td>\n    </tr>\n    <tr>\n      <th>2018-05-20</th>\n      <td>0</td>\n    </tr>\n    <tr>\n      <th>2018-05-27</th>\n      <td>0</td>\n    </tr>\n    <tr>\n      <th>2018-06-03</th>\n      <td>1</td>\n    </tr>\n  </tbody>\n</table>\n</div>"
     },
     "execution_count": 11,
     "metadata": {},
     "output_type": "execute_result"
    }
   ],
   "source": [
    "weekly_df"
   ],
   "metadata": {
    "collapsed": false,
    "pycharm": {
     "name": "#%%\n"
    }
   }
  },
  {
   "cell_type": "markdown",
   "source": [
    "Let's plot the dataframe `weekly_df` using `matplotlib.pyplot`. We use the `seaborn` theme and plot a simple bar plot\n",
    "--- `new_contributors` count vs time interval."
   ],
   "metadata": {
    "collapsed": false,
    "pycharm": {
     "name": "#%% md\n"
    }
   }
  },
  {
   "cell_type": "code",
   "execution_count": 12,
   "outputs": [
    {
     "data": {
      "text/plain": "Text(0.5, 1.0, 'New Contributors')"
     },
     "execution_count": 12,
     "metadata": {},
     "output_type": "execute_result"
    },
    {
     "data": {
      "text/plain": "<Figure size 576x396 with 1 Axes>",
      "image/png": "[encoded data removed]"
     },
     "metadata": {},
     "output_type": "display_data"
    }
   ],
   "source": [
    "plt.style.use('seaborn')\n",
    "weekly_df.plot(kind='bar', y='count', use_index=False)\n",
    "plt.title(\"New Contributors\")"
   ],
   "metadata": {
    "collapsed": false,
    "pycharm": {
     "name": "#%%\n"
    }
   }
  },
  {
   "cell_type": "markdown",
   "source": [
    "The same thing can be done for months, instead of weeks. By passing `month` in place of week, we get a similar dataframe\n",
    "but with only a few rows, due to the larger timescale of each period."
   ],
   "metadata": {
    "collapsed": false,
    "pycharm": {
     "name": "#%% md\n"
    }
   }
  },
  {
   "cell_type": "code",
   "execution_count": 13,
   "outputs": [],
   "source": [
    "monthly_df = new_contributors_interval.time_series(period='M')"
   ],
   "metadata": {
    "collapsed": false,
    "pycharm": {
     "name": "#%%\n"
    }
   }
  },
  {
   "cell_type": "code",
   "execution_count": 14,
   "outputs": [
    {
     "data": {
      "text/plain": "              count\ncreated_date       \n2018-01-31        7\n2018-02-28        1\n2018-03-31        4\n2018-04-30        0\n2018-05-31        1",
      "text/html": "<div>\n<style scoped>\n    .dataframe tbody tr th:only-of-type {\n        vertical-align: middle;\n    }\n\n    .dataframe tbody tr th {\n        vertical-align: top;\n    }\n\n    .dataframe thead th {\n        text-align: right;\n    }\n</style>\n<table border=\"1\" class=\"dataframe\">\n  <thead>\n    <tr style=\"text-align: right;\">\n      <th></th>\n      <th>count</th>\n    </tr>\n    <tr>\n      <th>created_date</th>\n      <th></th>\n    </tr>\n  </thead>\n  <tbody>\n    <tr>\n      <th>2018-01-31</th>\n      <td>7</td>\n    </tr>\n    <tr>\n      <th>2018-02-28</th>\n      <td>1</td>\n    </tr>\n    <tr>\n      <th>2018-03-31</th>\n      <td>4</td>\n    </tr>\n    <tr>\n      <th>2018-04-30</th>\n      <td>0</td>\n    </tr>\n    <tr>\n      <th>2018-05-31</th>\n      <td>1</td>\n    </tr>\n  </tbody>\n</table>\n</div>"
     },
     "execution_count": 14,
     "metadata": {},
     "output_type": "execute_result"
    }
   ],
   "source": [
    "monthly_df"
   ],
   "metadata": {
    "collapsed": false,
    "pycharm": {
     "name": "#%%\n"
    }
   }
  },
  {
   "cell_type": "code",
   "execution_count": 15,
   "outputs": [
    {
     "data": {
      "text/plain": "Text(0.5, 1.0, 'New Contributors')"
     },
     "execution_count": 15,
     "metadata": {},
     "output_type": "execute_result"
    },
    {
     "data": {
      "text/plain": "<Figure size 576x396 with 1 Axes>",
      "image/png": "[encoded data removed]"
     },
     "metadata": {},
     "output_type": "display_data"
    }
   ],
   "source": [
    "plt.style.use('seaborn')\n",
    "monthly_df.plot(kind=\"bar\", y='count', use_index=False)\n",
    "plt.title(\"New Contributors\")"
   ],
   "metadata": {
    "collapsed": false,
    "pycharm": {
     "name": "#%%\n"
    }
   }
  },
  {
   "cell_type": "code",
   "execution_count": 15,
   "outputs": [],
   "source": [],
   "metadata": {
    "collapsed": false,
    "pycharm": {
     "name": "#%%\n"
    }
   }
  }
 ],
 "metadata": {
  "kernelspec": {
   "display_name": "Python 3",
   "language": "python",
   "name": "python3"
  },
  "language_info": {
   "codemirror_mode": {
    "name": "ipython",
    "version": 2
   },
   "file_extension": ".py",
   "mimetype": "text/x-python",
   "name": "python",
   "nbconvert_exporter": "python",
   "pygments_lexer": "ipython2",
   "version": "2.7.6"
  }
 },
 "nbformat": 4,
 "nbformat_minor": 0
}