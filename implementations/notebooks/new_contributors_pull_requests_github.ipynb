{
 "cells": [
  {
   "cell_type": "markdown",
   "metadata": {
    "collapsed": true,
    "pycharm": {
     "name": "#%% md\n"
    }
   },
   "source": [
    "# New Contributors Pull Requests\n",
    "\n",
    "This is the reference implementation for [New Contributors Pull Requests](), a metric specified by the [Evolution Working group](https://github.com/chaoss/wg-evolution) of the [CHAOSS project](https://chaoss.community/). This implementation is specific to GitHub repositories.\n",
    "\n",
    "Have a look at [README.md](../README.md) to find out how to run this notebook (and others in this directory) as well as to get a better understanding of the purpose of the implementations.\n",
    "\n",
    "The implementation is desvcribed in two parts (see below):\n",
    "\n",
    "* Class for computing New Contributors Pull Requests\n",
    "* An explanatory analysis of the class' functionality\n",
    "\n",
    "Some more auxiliary information in this notebook:\n",
    "\n",
    "* Examples of the use of the implementation\n",
    "* Vizualizing the data extracted\n",
    "\n",
    "As discussed in the [README.md](../README.md) file, the scripts required to analyze the data fetched by Perceval are located in the `code_df` package. Due to python's import system, to import modules from a package which is not in the current directory, we have to either add the package to `PYTHONPATH` or simply append a `../..` to `sys.path`, so that `code_df` can be successfully imported."
   ]
  },
  {
   "cell_type": "code",
   "execution_count": 5,
   "outputs": [],
   "source": [
    "from datetime import datetime\n",
    "\n",
    "import sys\n",
    "\n",
    "sys.path.append(\"../..\")\n",
    "\n",
    "from implementations.scripts.pullrequest_github import PullRequestGitHub\n",
    "from implementations.scripts.utils import read_json_file"
   ],
   "metadata": {
    "collapsed": false,
    "pycharm": {
     "name": "#%%\n"
    }
   }
  },
  {
   "cell_type": "code",
   "execution_count": 6,
   "outputs": [],
   "source": [
    "class NewContributorsPullRequestsGitHub(PullRequestGitHub):\n",
    "    \"\"\"\n",
    "    Class for New Contributors Pull Requests in GitHub\n",
    "    \"\"\"\n",
    "\n",
    "    def __init__(self, items, date_range=(None, None)):\n",
    "        \"\"\"\n",
    "        Initializes self.items, the list with items (dictionary)\n",
    "        as elements.\n",
    "\n",
    "        :param items: A list of dictionaries.\n",
    "            Each item is a Perceval dictionary, obtained from a JSON\n",
    "            file or from Perceval directly.\n",
    "\n",
    "        :param date_range: A tuple which represents the start and end date\n",
    "            between which new contributors will be considered.\n",
    "            Either, or both can be None. If, for example, since is None, that\n",
    "            all unique contributors whose commit lies between the first pull request\n",
    "            to the pull request which last falls inside the until range would be considered\n",
    "            unique contributors.\n",
    "        \"\"\"\n",
    "        super().__init__(items, date_range)\n",
    "\n",
    "        self._filter_items()\n",
    "\n",
    "        if self.since:\n",
    "            self.items = [item for item in self.items if item['created_date'] >= self.since]\n",
    "\n",
    "        if self.until:\n",
    "            self.items = [item for item in self.items if item['created_date'] <= self.until]\n",
    "\n",
    "    def _filter_items(self):\n",
    "        new_contributors = {}\n",
    "\n",
    "        for item in self.items:\n",
    "            author = item['author']\n",
    "            created_date = item['created_date']\n",
    "\n",
    "            if author not in new_contributors or created_date < new_contributors[author]['created_date']:\n",
    "                new_contributors[author] = item\n",
    "\n",
    "        self.items = new_contributors.values()\n",
    "\n",
    "    def compute(self):\n",
    "        \"\"\"\n",
    "        Count the number of new contributors who has created an pull request\n",
    "        between the two dates\n",
    "        of date_range.\n",
    "\n",
    "        :returns count_of_new_contributors: the number of new contributors who\n",
    "            created a new pull request between the dates of date_range\n",
    "\n",
    "            Since the dataframe self.df is modified in __init__ via groupby\n",
    "            and idmin(), the number of unique entries in the dataframe gives us the number of the new contributors between the given dates.\n",
    "        \"\"\"\n",
    "        return len(self.items)\n",
    "\n",
    "    def __str__(self):\n",
    "        return \"New Contributors of Pull Requests\""
   ],
   "metadata": {
    "collapsed": false,
    "pycharm": {
     "name": "#%%\n"
    }
   }
  },
  {
   "cell_type": "markdown",
   "source": [
    "## Performing the Analysis\n",
    "\n",
    "Using the above class, we can perform several kinds of analysis on the JSON data file, fetched by Perceval.\n",
    "\n",
    "At its most basic, the `NewContributorsPullRequestsGitHub` class can be used to get the number of contributors over the entire interval for which commits are considered.\n",
    "\n",
    "The `date_range` parameter talks about the period in which we will look for the new contributors.\n",
    "\n",
    "### Counting the total number of contributors\n",
    "\n",
    "We pass the data of the JSON file as a list to NewContributorsPullRequestsGitHub to start off."
   ],
   "metadata": {
    "collapsed": false,
    "pycharm": {
     "name": "#%% md\n"
    }
   }
  },
  {
   "cell_type": "code",
   "execution_count": 7,
   "outputs": [],
   "source": [
    "items = read_json_file(\"../pull_requests.json\")"
   ],
   "metadata": {
    "collapsed": false,
    "pycharm": {
     "name": "#%%\n"
    }
   }
  },
  {
   "cell_type": "markdown",
   "source": [
    "Let's use the compute method to count the total number of valid commits made. First, we will do it without passing any `since` and `until` dates. When no values are passed for `date_range`, every contributor to make a commit is a new contributor and hence, we get the total number of unique contributors in the data considered."
   ],
   "metadata": {
    "collapsed": false,
    "pycharm": {
     "name": "#%% md\n"
    }
   }
  },
  {
   "cell_type": "code",
   "execution_count": 8,
   "outputs": [
    {
     "name": "stdout",
     "output_type": "stream",
     "text": [
      "New Contributors, total: 39\n"
     ]
    }
   ],
   "source": [
    "new_contributors = NewContributorsPullRequestsGitHub(items)\n",
    "print(\"New Contributors, total: {}\".format(new_contributors.compute()))"
   ],
   "metadata": {
    "collapsed": false,
    "pycharm": {
     "name": "#%%\n"
    }
   }
  },
  {
   "cell_type": "markdown",
   "source": [
    "### Counting contributors in a specific range\n",
    "Now, let's give the `date_range` tuple, which has `since` and `until` as its elements some values. Let's pass 2018-01-01 and 2018-07-01 for `date_range`. Thus, we will be looking for new contributors who made their first pull request between 2018-01-01 and 2018-07-01."
   ],
   "metadata": {
    "collapsed": false,
    "pycharm": {
     "name": "#%% md\n"
    }
   }
  },
  {
   "cell_type": "code",
   "execution_count": 9,
   "outputs": [
    {
     "name": "stdout",
     "output_type": "stream",
     "text": [
      "New Contributors, between 2018-01-01 and 2018-07-01:  13\n"
     ]
    }
   ],
   "source": [
    "date_since = datetime.strptime(\"2018-01-01\", \"%Y-%m-%d\")\n",
    "date_until = datetime.strptime(\"2018-07-01\", \"%Y-%m-%d\")\n",
    "new_contributors_dated = NewContributorsPullRequestsGitHub(items, (date_since, date_until))\n",
    "print(\"New Contributors, between 2018-01-01 and 2018-07-01: \", new_contributors_dated.compute())"
   ],
   "metadata": {
    "collapsed": false,
    "pycharm": {
     "name": "#%%\n"
    }
   }
  },
  {
   "cell_type": "code",
   "execution_count": 9,
   "outputs": [],
   "source": [],
   "metadata": {
    "collapsed": false,
    "pycharm": {
     "name": "#%%"
    }
   }
  }
 ],
 "metadata": {
  "kernelspec": {
   "display_name": "Python 3",
   "language": "python",
   "name": "python3"
  },
  "language_info": {
   "codemirror_mode": {
    "name": "ipython",
    "version": 2
   },
   "file_extension": ".py",
   "mimetype": "text/x-python",
   "name": "python",
   "nbconvert_exporter": "python",
   "pygments_lexer": "ipython2",
   "version": "2.7.6"
  }
 },
 "nbformat": 4,
 "nbformat_minor": 0
}