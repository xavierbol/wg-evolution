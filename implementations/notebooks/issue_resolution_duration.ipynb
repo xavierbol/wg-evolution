{
 "nbformat": 4,
 "nbformat_minor": 2,
 "metadata": {
  "language_info": {
   "name": "python",
   "codemirror_mode": {
    "name": "ipython",
    "version": 2
   },
   "version": "3.6.9-final"
  },
  "orig_nbformat": 2,
  "file_extension": ".py",
  "mimetype": "text/x-python",
  "name": "python",
  "npconvert_exporter": "python",
  "pygments_lexer": "ipython2",
  "version": 2,
  "kernelspec": {
   "name": "python36964bitchaossenvvenv2ed2025171fd4bd48a777e177d2e1969",
   "display_name": "Python 3.6.9 64-bit ('chaoss_env': venv)"
  }
 },
 "cells": [
  {
   "cell_type": "markdown",
   "execution_count": null,
   "metadata": {},
   "outputs": [],
   "source": [
    "## Issue Resolution\n",
    "This is the reference implementation for [Issue Resolution Duration](https://github.com/chaoss/wg-evolution/blob/master/metrics/Issue_Resolution_Duration.md), \n",
    "a metric specified by the\n",
    "[Evolution Working Group](https://github.com/chaoss/wg-evolution) of the\n",
    "[CHAOSS project](https://chaoss.community).\n",
    "\n",
    "Have a look at [README.md](../README.md) to find out how to run this notebook (and others in this directory) as well as to get a better understanding of the purpose of the implementations.\n",
    "\n",
    "The implementation is described in two parts (see below):\n",
    "\n",
    "* Class for computing Issue Resolution Duration\n",
    "* An explanatory analysis of the class' functionality\n",
    "\n",
    "Some more auxiliary information in this notebook:\n",
    "\n",
    "* Examples of the use of the implementation"
   ]
  },
  {
   "cell_type": "markdown",
   "execution_count": null,
   "metadata": {},
   "outputs": [],
   "source": [
    "As discussed in the [README](../README.md) file, the scripts required to analyze the data fetched by Perceval are located in the `scripts` package. Due to python's import system, to import modules from a package which is not in the current directory, we have to either add the package to `PYTHONPATH` or simply append a `../..` to `sys.path`, so that `scripts` can be successfully imported. "
   ]
  },
  {
   "cell_type": "code",
   "execution_count": 9,
   "metadata": {},
   "outputs": [],
   "source": [
    "from datetime import datetime\n",
    "\n",
    "import sys\n",
    "sys.path.append('../..')\n",
    "\n",
    "from implementations.scripts.issue_github import IssueGithub\n",
    "from implementations.scripts.utils import read_json_file, str_to_date"
   ]
  },
  {
   "cell_type": "code",
   "execution_count": 10,
   "metadata": {},
   "outputs": [],
   "source": [
    "class IssueResolutionDurationGithub(IssueGithub):\n",
    "    \"\"\"\n",
    "    Issue Resolution Duration Metric\n",
    "    \"\"\"\n",
    "\n",
    "    def _flatten(self, item):\n",
    "        flat = super()._flatten(item)\n",
    "\n",
    "        if flat:\n",
    "            flat = flat[0]\n",
    "        else:\n",
    "            return flat\n",
    "\n",
    "        if flat['current_status'] != 'closed':\n",
    "            return []\n",
    "\n",
    "        closed_date = str_to_date(item['data']['closed_at'])\n",
    "        flat.update(\n",
    "            closed_date=closed_date,\n",
    "            resolution_duration=(closed_date - flat['created_date']).days)\n",
    "\n",
    "        return [flat]\n",
    "\n",
    "    def compute(self):\n",
    "        resolution_durations = [item['resolution_duration'] for item in self.items]\n",
    "        return sum(resolution_durations) / len(resolution_durations)\n",
    "\n",
    "    def compute_max(self):\n",
    "        resolution_durations = [item['resolution_duration'] for item in self.items]\n",
    "        return max(resolution_durations)\n",
    "\n",
    "    def compute_min(self):\n",
    "        resolution_durations = [item['resolution_duration'] for item in self.items]\n",
    "        return min(resolution_durations)\n",
    "\n",
    "    def __str__(self):\n",
    "        return \"Issue Resolution Duration Metric for Github\""
   ]
  },
  {
   "cell_type": "markdown",
   "execution_count": null,
   "metadata": {},
   "outputs": [],
   "source": [
    "## Performing the Analysis\n",
    "We'll perform two kinds of analysis here:\n",
    "- Counting the average age of open issues\n",
    "- Change of average open issue age over time"
   ]
  },
  {
   "cell_type": "markdown",
   "execution_count": null,
   "metadata": {},
   "outputs": [],
   "source": [
    "### Computing the average resolution duration of issues\n",
    "First, we read the JSON file `issues.json`, present in the `implementations` directory, one level up. We make use of the `read_json_file` utility function."
   ]
  },
  {
   "cell_type": "code",
   "execution_count": 11,
   "metadata": {},
   "outputs": [],
   "source": [
    "items = read_json_file('../issues.json')"
   ]
  },
  {
   "cell_type": "markdown",
   "execution_count": null,
   "metadata": {},
   "outputs": [],
   "source": [
    "Let's use the `compute` method to compute to calculate the average of resolution duration of issues. First, we will do it without passing any since and until dates. \n",
    "Next, we can pass in the start and end dates as a tuple. The format would be `%Y-%m-%d`.\n",
    "\n",
    "Lets calculate the average age for all open issues first. Then, we can do it by passing a start date. Here, only those issues will be considered that were created after the start date we passed via the variable `date_since`. \n",
    "\n",
    "While printing the output, we will keep the precision to only two decimals. "
   ]
  },
  {
   "cell_type": "code",
   "execution_count": 12,
   "metadata": {},
   "outputs": [
    {
     "name": "stdout",
     "output_type": "stream",
     "text": "The average resolution duration of all issues is 22.47 days.\nThe average resolution duration of issues created after 2018-09-07 is 9.73 days.\n"
    }
   ],
   "source": [
    "date_since = datetime.strptime(\"2018-09-07\", \"%Y-%m-%d\")\n",
    "issue_resolution_duration = IssueResolutionDurationGithub(items)\n",
    "print('The average resolution duration of all issues is {:.2f} days.'.format(issue_resolution_duration.compute()))\n",
    "\n",
    "issue_resolution_duration = IssueResolutionDurationGithub(items, (date_since, None))\n",
    "print('The average resolution duration of issues created after 2018-09-07 is {:.2f} days.'.format(issue_resolution_duration.compute()))"
   ]
  }
 ]
}