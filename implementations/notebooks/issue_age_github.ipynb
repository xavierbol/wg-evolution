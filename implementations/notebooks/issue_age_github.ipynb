{
 "nbformat": 4,
 "nbformat_minor": 2,
 "metadata": {
  "language_info": {
   "name": "python",
   "codemirror_mode": {
    "name": "ipython",
    "version": 2
   },
   "version": "3.6.9-final"
  },
  "orig_nbformat": 2,
  "file_extension": ".py",
  "mimetype": "text/x-python",
  "name": "python",
  "npconvert_exporter": "python",
  "pygments_lexer": "ipython2",
  "version": 2,
  "kernelspec": {
   "name": "python36964bitchaossenvvenv2ed2025171fd4bd48a777e177d2e1969",
   "display_name": "Python 3.6.9 64-bit ('chaoss_env': venv)"
  }
 },
 "cells": [
  {
   "cell_type": "markdown",
   "execution_count": 6,
   "metadata": {},
   "outputs": [
    {
     "ename": "SyntaxError",
     "evalue": "invalid syntax (<ipython-input-6-254d4ab9e28b>, line 2)",
     "output_type": "error",
     "traceback": [
      "\u001b[0;36m  File \u001b[0;32m\"<ipython-input-6-254d4ab9e28b>\"\u001b[0;36m, line \u001b[0;32m2\u001b[0m\n\u001b[0;31m    This is the reference implementation for [Open Issue Age](https://github.com/chaoss/wg-evolution/blob/master/metrics/issue-Age.md),\u001b[0m\n\u001b[0m                        ^\u001b[0m\n\u001b[0;31mSyntaxError\u001b[0m\u001b[0;31m:\u001b[0m invalid syntax\n"
     ]
    }
   ],
   "source": [
    "## Issue Age\n",
    "This is the reference implementation for [Issue Age](https://github.com/chaoss/wg-evolution/blob/master/metrics/Issue_Age.md),\n",
    "a metric specified by the\n",
    "[Evolution Working Group](https://github.com/chaoss/wg-evolution) of the\n",
    "[CHAOSS project](https://chaoss.community).\n",
    "\n",
    "Have a look at [README.md](../README.md) to find out how to run this notebook (and others in this directory) as well as to get a better understanding of the purpose of the implementations.\n",
    "\n",
    "The implementation is described in two parts (see below):\n",
    "\n",
    "* Class for computing Issue Age\n",
    "* An explanatory analysis of the class' functionality\n",
    "\n",
    "Some more auxiliary information in this notebook:\n",
    "\n",
    "* Examples of the use of the implementation"
   ]
  },
  {
   "cell_type": "markdown",
   "execution_count": null,
   "metadata": {},
   "outputs": [],
   "source": [
    "As discussed in the [README](../README.md) file, the scripts required to analyze the data fetched by Perceval are located in the `scripts` package. Due to python's import system, to import modules from a package which is not in the current directory, we have to either add the package to `PYTHONPATH` or simply append a `../..` to `sys.path`, so that `scripts` can be successfully imported. "
   ]
  },
  {
   "cell_type": "code",
   "execution_count": 23,
   "metadata": {},
   "outputs": [],
   "source": [
    "from datetime import datetime\n",
    "\n",
    "import sys\n",
    "sys.path.append('../..')\n",
    "\n",
    "from implementations.scripts.issue_github import IssueGithub\n",
    "from implementations.scripts.utils import read_json_file"
   ]
  },
  {
   "cell_type": "code",
   "execution_count": 24,
   "metadata": {},
   "outputs": [],
   "source": [
    "class IssueAgeGithub(IssueGithub):\n",
    "    \"\"\"\n",
    "    Issue Age Metric\n",
    "    \"\"\"\n",
    "\n",
    "    def _flatten(self, item):\n",
    "        \"\"\"\n",
    "        Flatten a raw issue fetched by Perceval into a flat dictionary.\n",
    "\n",
    "        A list with a single flat directory will be returned.\n",
    "        That dictionary will have the elements we need for computing metrics.\n",
    "        The list may be empty, if for some reason the issue should not\n",
    "        be considered.\n",
    "\n",
    "        :param item: raw item fetched by Perceval (dictionary)\n",
    "        :returns:   list of a single flat dictionary\n",
    "        \"\"\"\n",
    "        flat = super()._flatten(item)\n",
    "\n",
    "        if flat:\n",
    "            flat = flat[0]\n",
    "        else:\n",
    "            return flat\n",
    "\n",
    "        if flat['current_status'] != 'open':\n",
    "            return []\n",
    "\n",
    "        flat['open_issue_age'] = (datetime.now() - flat['created_date']).days\n",
    "\n",
    "        return [flat]\n",
    "\n",
    "    def compute(self):\n",
    "        \"\"\"\n",
    "        Compute the average open issue age for all issues in the Perceval data.\n",
    "\n",
    "        :returns avg_open_issue_age: the average age of open\n",
    "            issues\n",
    "        \"\"\"\n",
    "        open_issue_ages = [item['open_issue_age'] for item in self.items]\n",
    "        return sum(open_issue_ages) / len(open_issue_ages) if open_issue_ages else None\n",
    "\n",
    "    def compute_max(self):\n",
    "        \"\"\"\n",
    "        Compute the maximum open issue age for all issues in the Perceval data.\n",
    "\n",
    "        :returns avg_open_issue_age: the average age of open\n",
    "            issues\n",
    "        \"\"\"\n",
    "        open_issue_ages = [item['open_issue_age'] for item in self.items]\n",
    "        return max(open_issue_ages) if open_issue_ages else None\n",
    "\n",
    "    def compute_min(self):\n",
    "        \"\"\"\n",
    "        Compute the minimum open issue age for all issues in the Perceval data.\n",
    "\n",
    "        :returns avg_open_issue_age: the average age of open\n",
    "            issues\n",
    "        \"\"\"\n",
    "        open_issue_ages = [item['open_issue_age'] for item in self.items]\n",
    "        return min(open_issue_ages) if open_issue_ages else None\n",
    "\n",
    "    def __str__(self):\n",
    "        return \"Issue Age Metric for Github\""
   ]
  },
  {
   "cell_type": "markdown",
   "execution_count": null,
   "metadata": {},
   "outputs": [],
   "source": [
    "## Performing the Analysis\n",
    "We'll perform two kinds of analysis here:\n",
    "- Counting the average age of open issues\n",
    "- Change of average open issue age over time"
   ]
  },
  {
   "cell_type": "markdown",
   "execution_count": null,
   "metadata": {},
   "outputs": [],
   "source": [
    "### Counting the average age of open issues\n",
    "First, we read the JSON file `issues.json`, present in the `implementations` directory, one level up. We make use of the `read_json_file` utility function.  Notice the filter being used here on `items`. The GitHub API considers all pull requests to be issues. Any pull request represented as an issue has a 'pull_request' attribute, which is used to filter them out from the issue data."
   ]
  },
  {
   "cell_type": "code",
   "execution_count": 25,
   "metadata": {},
   "outputs": [],
   "source": [
    "items = read_json_file('../issues.json')\n",
    "\n",
    "items = [item for item in items if 'pull_request' not in item['data']]"
   ]
  },
  {
   "cell_type": "markdown",
   "execution_count": null,
   "metadata": {},
   "outputs": [],
   "source": [
    "Let's use the `compute` method to count the total number of valid issues made. First, we will do it without passing any since and until dates. \n",
    "Next, we can pass in the start and end dates as a tuple. The format would be `%Y-%m-%d`.   \n",
    "\n",
    "Lets calculate the average age for all open issues first. Then, we can do it by passing a start date. Here, only those issues will be considered that were created after the start date we passed via the variable `date_since`. \n",
    "\n",
    "While printing the output, we will keep the precision to only two decimals. "
   ]
  },
  {
   "cell_type": "code",
   "execution_count": 26,
   "metadata": {},
   "outputs": [
    {
     "name": "stdout",
     "output_type": "stream",
     "text": "The average age of all open issues is 715.91 days.\nThe average age of open issues created after 2018-09-07 is 403.35 days.\n"
    }
   ],
   "source": [
    "date_since = datetime.strptime(\"2018-09-07\", \"%Y-%m-%d\")\n",
    "open_issue_age = IssueAgeGithub(items)\n",
    "print(\"The average age of all open issues is {:.2f} days.\"\n",
    "      .format(open_issue_age.compute()))\n",
    "\n",
    "open_issue_age_interval = IssueAgeGithub(items, (date_since, None))\n",
    "print(\"The average age of open issues created after 2018-09-07 is {:.2f} days.\"\n",
    "      .format(open_issue_age_interval.compute()))"
   ]
  }
 ]
}